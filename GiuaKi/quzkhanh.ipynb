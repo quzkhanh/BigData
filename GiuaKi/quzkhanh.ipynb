{
 "cells": [
  {
   "cell_type": "code",
   "execution_count": 1,
   "metadata": {},
   "outputs": [
    {
     "name": "stderr",
     "output_type": "stream",
     "text": [
      "Setting default log level to \"WARN\".\n",
      "To adjust logging level use sc.setLogLevel(newLevel). For SparkR, use setLogLevel(newLevel).\n",
      "25/04/08 23:42:51 WARN NativeCodeLoader: Unable to load native-hadoop library for your platform... using builtin-java classes where applicable\n",
      "Dung                                                                            \n",
      "Cung\n",
      "Tien\n",
      "Linh\n"
     ]
    }
   ],
   "source": [
    "from pyspark import SparkContext\n",
    "sc = SparkContext(\"local\",\"quzkhanh\")\n",
    "rdd = sc.textFile(\"/home/quzkhanh/Code/BigData/GiuaKi/MidTermRDD.txt\")\n",
    "\n",
    "# loai bo header\n",
    "header = rdd.first()\n",
    "data = rdd.filter(lambda data: data != header)\n",
    "\n",
    "# lấy danh sách tên không trùng lặp\n",
    "male_students = (data\n",
    "                 .filter(lambda x: len(x.split()) > 2 and x.split()[2] == \"Male\" )\n",
    "                 .map(lambda x: x.split()[1]).distinct())\n",
    "\n",
    "male_students.foreach(print)\n",
    "\n",
    "sc.stop()"
   ]
  }
 ],
 "metadata": {
  "kernelspec": {
   "display_name": "Python 3",
   "language": "python",
   "name": "python3"
  },
  "language_info": {
   "codemirror_mode": {
    "name": "ipython",
    "version": 3
   },
   "file_extension": ".py",
   "mimetype": "text/x-python",
   "name": "python",
   "nbconvert_exporter": "python",
   "pygments_lexer": "ipython3",
   "version": "3.13.2"
  }
 },
 "nbformat": 4,
 "nbformat_minor": 2
}
